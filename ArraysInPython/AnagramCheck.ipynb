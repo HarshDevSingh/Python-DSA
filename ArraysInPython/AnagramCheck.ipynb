{
 "cells": [
  {
   "cell_type": "code",
   "execution_count": 8,
   "id": "de45270a-5538-4fec-a4d9-461af171c883",
   "metadata": {},
   "outputs": [],
   "source": [
    "s1=\"Jim Morrison\"\n",
    "s2=\"Mr Mojo Risin\""
   ]
  },
  {
   "cell_type": "code",
   "execution_count": 9,
   "id": "28762f42-aa67-4f5d-a4c2-a56f75f7066e",
   "metadata": {},
   "outputs": [],
   "source": [
    "#check using sets\n",
    "def anagram_check(s1,s2):\n",
    "    s1=s1.replace(\" \", \"\").lower()\n",
    "    s2=s2.replace(\" \", \"\").lower()\n",
    "    if len(s1) != len(s2):\n",
    "        return False\n",
    "    if set(s1)==set(s2):\n",
    "        return True\n",
    "    return False\n",
    "    "
   ]
  },
  {
   "cell_type": "code",
   "execution_count": 10,
   "id": "1af26472-6375-46b1-9747-ab09610136cd",
   "metadata": {},
   "outputs": [
    {
     "data": {
      "text/plain": [
       "True"
      ]
     },
     "execution_count": 10,
     "metadata": {},
     "output_type": "execute_result"
    }
   ],
   "source": [
    "anagram_check(s1,s2)"
   ]
  },
  {
   "cell_type": "code",
   "execution_count": 11,
   "id": "2fc3fdfe-d7d8-4b52-9ed9-5316bd641a0c",
   "metadata": {},
   "outputs": [],
   "source": [
    "#check using sorted string\n",
    "def anagram_check1(s1,s2):\n",
    "    s1=s1.replace(\" \", \"\").lower()\n",
    "    s2=s2.replace(\" \", \"\").lower()\n",
    "    if len(s1) != len(s2):\n",
    "        return False\n",
    "    if sorted(s1)==sorted(s2):\n",
    "        return True\n",
    "    return False"
   ]
  },
  {
   "cell_type": "code",
   "execution_count": 12,
   "id": "afa95a72-2c1f-4151-a71d-ff47e450eb3c",
   "metadata": {},
   "outputs": [
    {
     "data": {
      "text/plain": [
       "True"
      ]
     },
     "execution_count": 12,
     "metadata": {},
     "output_type": "execute_result"
    }
   ],
   "source": [
    "anagram_check1(s1,s2)"
   ]
  },
  {
   "cell_type": "code",
   "execution_count": 13,
   "id": "b42d28e9-a230-43b4-95a7-84351992b49c",
   "metadata": {},
   "outputs": [],
   "source": [
    "def anagram_check2(s1,s2):\n",
    "    s1=s1.replace(\" \", \"\").lower()\n",
    "    s2=s2.replace(\" \", \"\").lower()\n",
    "    if len(s1) != len(s2):\n",
    "        return False\n",
    "    count={}\n",
    "    \n",
    "    for l in s1:\n",
    "        if l in count:\n",
    "            count[l] +=1\n",
    "        else:\n",
    "            count[l]=1\n",
    "    \n",
    "    for l in s2:\n",
    "        \n",
    "        if l in count:\n",
    "            count[l] -=1\n",
    "        else:\n",
    "            count[l]=1\n",
    "            \n",
    "    for k in count:\n",
    "        if count[k] != 0:\n",
    "            return False\n",
    "    \n",
    "    return True"
   ]
  },
  {
   "cell_type": "code",
   "execution_count": 14,
   "id": "c8da29d2-9496-494d-8430-35c7a7d12e44",
   "metadata": {},
   "outputs": [
    {
     "data": {
      "text/plain": [
       "True"
      ]
     },
     "execution_count": 14,
     "metadata": {},
     "output_type": "execute_result"
    }
   ],
   "source": [
    "anagram_check2(s1,s2)"
   ]
  },
  {
   "cell_type": "code",
   "execution_count": 60,
   "id": "03fa2fa1-9d58-494e-aa85-b9567f12ad85",
   "metadata": {},
   "outputs": [],
   "source": [
    "def reverse_st(s):\n",
    "    length=len(s)\n",
    "    words=[]\n",
    "    spaces=[\" \"]\n",
    "    i=0\n",
    "    while i < length:\n",
    "        if s[i] not in spaces:\n",
    "            word_starts=i\n",
    "            while i < length and s[i] not in spaces:\n",
    "                i+=1\n",
    "            words.append(s[word_starts:i])\n",
    "        i+=1\n",
    "    return \" \".join(reversed(words))"
   ]
  },
  {
   "cell_type": "code",
   "execution_count": 61,
   "id": "d395bb5f-1cc5-4456-aaa3-b390dd1c79cb",
   "metadata": {},
   "outputs": [
    {
     "data": {
      "text/plain": [
       "'strength is partner best'"
      ]
     },
     "execution_count": 61,
     "metadata": {},
     "output_type": "execute_result"
    }
   ],
   "source": [
    "reverse_st(\"    best partner is strength\")"
   ]
  },
  {
   "cell_type": "code",
   "execution_count": null,
   "id": "8faa4653-13b8-483e-92d1-92d045b312b3",
   "metadata": {},
   "outputs": [],
   "source": []
  }
 ],
 "metadata": {
  "kernelspec": {
   "display_name": "Python 3",
   "language": "python",
   "name": "python3"
  },
  "language_info": {
   "codemirror_mode": {
    "name": "ipython",
    "version": 3
   },
   "file_extension": ".py",
   "mimetype": "text/x-python",
   "name": "python",
   "nbconvert_exporter": "python",
   "pygments_lexer": "ipython3",
   "version": "3.9.1"
  }
 },
 "nbformat": 4,
 "nbformat_minor": 5
}
