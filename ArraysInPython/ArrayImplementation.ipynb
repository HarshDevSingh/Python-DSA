{
 "cells": [
  {
   "cell_type": "code",
   "execution_count": 1,
   "id": "08876b6e-0069-4bbf-97b2-b9a22a6221ed",
   "metadata": {},
   "outputs": [],
   "source": [
    "import ctypes"
   ]
  },
  {
   "cell_type": "code",
   "execution_count": 28,
   "id": "50d09aba-b1a1-4d24-bcc4-b01186a44dbf",
   "metadata": {},
   "outputs": [],
   "source": [
    "class DynamicArray(object):\n",
    "    \n",
    "    def __init__(self):\n",
    "        self.n=0\n",
    "        self.capacity=1\n",
    "        self.A=self.make_array(self.capacity)\n",
    "    \n",
    "    def __len__(self):\n",
    "        return self.n\n",
    "    \n",
    "    def __getitem__(self,k):\n",
    "        if not 0 <= k < self.n:\n",
    "            return IndexError(\"K is out of bounds\")\n",
    "        return self.A[k]\n",
    "    \n",
    "    def append(self,ele):\n",
    "        if self.n == self.capacity:\n",
    "            self._resize(2*self.capacity) # double the size, if capacity is not enough\n",
    "        self.A[self.n]=ele\n",
    "        self.n += 1\n",
    "    \n",
    "    def _resize(self,new_cap):\n",
    "        B=self.make_array(new_cap)\n",
    "        for k in range(self.n):\n",
    "            B[k]=self.A[k]\n",
    "        self.A=B\n",
    "        self.capacity=new_cap\n",
    "        \n",
    "    def make_array(self,new_cap):\n",
    "        return (new_cap*ctypes.py_object)()\n",
    "        "
   ]
  },
  {
   "cell_type": "code",
   "execution_count": 29,
   "id": "fb612198-f9fd-4a1b-a548-b4962bbfb786",
   "metadata": {},
   "outputs": [],
   "source": [
    "arr=DynamicArray()"
   ]
  },
  {
   "cell_type": "code",
   "execution_count": 35,
   "id": "9abd02cb-f7bb-48bf-b3ec-391a91c08992",
   "metadata": {},
   "outputs": [],
   "source": [
    "arr.append(1)\n",
    "arr.append(3)\n",
    "arr.append(1)\n",
    "arr.append(3)\n",
    "arr.append(1)\n",
    "arr.append(3)\n",
    "arr.append(1)\n",
    "arr.append(3)\n",
    "arr.append(1)\n",
    "arr.append(3)\n",
    "arr.append(1)\n",
    "arr.append(3)\n",
    "arr.append(1)\n",
    "arr.append(3)\n",
    "arr.append(1)\n",
    "arr.append(3)"
   ]
  },
  {
   "cell_type": "code",
   "execution_count": 36,
   "id": "decaaf8f-b52e-4782-9681-e80779559551",
   "metadata": {},
   "outputs": [
    {
     "data": {
      "text/plain": [
       "3"
      ]
     },
     "execution_count": 36,
     "metadata": {},
     "output_type": "execute_result"
    }
   ],
   "source": [
    "arr.__getitem__(1)"
   ]
  },
  {
   "cell_type": "code",
   "execution_count": 37,
   "id": "958fd736-af36-4882-ad47-49e2c3c0385e",
   "metadata": {},
   "outputs": [
    {
     "data": {
      "text/plain": [
       "24"
      ]
     },
     "execution_count": 37,
     "metadata": {},
     "output_type": "execute_result"
    }
   ],
   "source": [
    "len(arr)"
   ]
  },
  {
   "cell_type": "code",
   "execution_count": 38,
   "id": "280de611-53bc-4050-a65b-4b384ab8858a",
   "metadata": {},
   "outputs": [
    {
     "data": {
      "text/plain": [
       "24"
      ]
     },
     "execution_count": 38,
     "metadata": {},
     "output_type": "execute_result"
    }
   ],
   "source": [
    "arr.__len__()"
   ]
  },
  {
   "cell_type": "code",
   "execution_count": 39,
   "id": "fd27a737-c328-4430-a704-72d05887e2f0",
   "metadata": {},
   "outputs": [
    {
     "data": {
      "text/plain": [
       "32"
      ]
     },
     "execution_count": 39,
     "metadata": {},
     "output_type": "execute_result"
    }
   ],
   "source": [
    "arr.capacity"
   ]
  },
  {
   "cell_type": "code",
   "execution_count": null,
   "id": "c7eb0461-54d2-4034-a2ed-a523e9dcc992",
   "metadata": {},
   "outputs": [],
   "source": []
  }
 ],
 "metadata": {
  "kernelspec": {
   "display_name": "Python 3",
   "language": "python",
   "name": "python3"
  },
  "language_info": {
   "codemirror_mode": {
    "name": "ipython",
    "version": 3
   },
   "file_extension": ".py",
   "mimetype": "text/x-python",
   "name": "python",
   "nbconvert_exporter": "python",
   "pygments_lexer": "ipython3",
   "version": "3.9.1"
  }
 },
 "nbformat": 4,
 "nbformat_minor": 5
}
