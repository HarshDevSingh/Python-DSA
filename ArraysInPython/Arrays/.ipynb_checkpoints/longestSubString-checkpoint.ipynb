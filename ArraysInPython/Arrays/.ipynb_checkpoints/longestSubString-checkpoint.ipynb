{
 "cells": [
  {
   "cell_type": "code",
   "execution_count": 24,
   "id": "82208349-7020-4e88-9be3-7546ac378a1e",
   "metadata": {},
   "outputs": [],
   "source": [
    "s='abfgrsahkjgiab'"
   ]
  },
  {
   "cell_type": "code",
   "execution_count": 27,
   "id": "4295fb15-aea6-4a89-b565-9b2c9a8547a2",
   "metadata": {},
   "outputs": [],
   "source": [
    "count={}\n",
    "max_length=0\n",
    "start=0\n",
    "\n",
    "for i in range(len(s)):\n",
    "    if s[i] in count and start  <=count[s[i]]:\n",
    "        start+=count[s[i]]+1"
   ]
  },
  {
   "cell_type": "code",
   "execution_count": null,
   "id": "b607f8bd-dac5-47f9-a615-7ae70cdf3e23",
   "metadata": {},
   "outputs": [],
   "source": []
  }
 ],
 "metadata": {
  "kernelspec": {
   "display_name": "Python 3",
   "language": "python",
   "name": "python3"
  },
  "language_info": {
   "codemirror_mode": {
    "name": "ipython",
    "version": 3
   },
   "file_extension": ".py",
   "mimetype": "text/x-python",
   "name": "python",
   "nbconvert_exporter": "python",
   "pygments_lexer": "ipython3",
   "version": "3.9.1"
  }
 },
 "nbformat": 4,
 "nbformat_minor": 5
}
