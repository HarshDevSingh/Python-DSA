{
 "cells": [
  {
   "cell_type": "code",
   "execution_count": 13,
   "id": "70e5db21-3b89-42a7-b686-996fcd7b5478",
   "metadata": {},
   "outputs": [],
   "source": [
    "i=0\n",
    "\n",
    "lst=[-4,1,-1,-1,0,2]"
   ]
  },
  {
   "cell_type": "code",
   "execution_count": 15,
   "id": "ee31111c-2eeb-40c0-9021-fb6a5ca661e5",
   "metadata": {},
   "outputs": [],
   "source": [
    "lst=sorted(lst)"
   ]
  },
  {
   "cell_type": "code",
   "execution_count": 16,
   "id": "403dd12b-e50a-4737-aba0-8cfe39cc8fff",
   "metadata": {},
   "outputs": [
    {
     "data": {
      "text/plain": [
       "-1"
      ]
     },
     "execution_count": 16,
     "metadata": {},
     "output_type": "execute_result"
    }
   ],
   "source": [
    "lst[i+1]"
   ]
  },
  {
   "cell_type": "code",
   "execution_count": 20,
   "id": "6e02d2a3-aca6-4620-b54c-6e2fb17e4a14",
   "metadata": {},
   "outputs": [
    {
     "data": {
      "text/plain": [
       "False"
      ]
     },
     "execution_count": 20,
     "metadata": {},
     "output_type": "execute_result"
    }
   ],
   "source": [
    "lst[len(lst)-1]\n",
    "lst[1]==lst[1-1]"
   ]
  },
  {
   "cell_type": "code",
   "execution_count": 41,
   "id": "19f29c56-ba0b-437e-a8a1-e76163584f6d",
   "metadata": {},
   "outputs": [],
   "source": [
    "def find_sum(lst):\n",
    "    res=[]\n",
    "    nums=lst\n",
    "    ln= len(lst)\n",
    "    \n",
    "    for i in range(ln-1):\n",
    "        if i>0 and nums[i]==nums[i-1]:\n",
    "            continue\n",
    "        l=i+1\n",
    "        r=ln-1\n",
    "        while l<r:\n",
    "            total=nums[i]+nums[l]+nums[r]\n",
    "            if total <0:\n",
    "                l+=1\n",
    "            elif total>0:\n",
    "                r-=1\n",
    "            else:\n",
    "                res.append([nums[i],nums[l],nums[r]])\n",
    "                while l<r and nums[l]==nums[l+1]:\n",
    "                    l+=1\n",
    "                while l<r and nums[r]==nums[r-1]:\n",
    "                    r-=1\n",
    "                l+=1\n",
    "                r-=1\n",
    "    return res\n",
    "    "
   ]
  },
  {
   "cell_type": "code",
   "execution_count": 45,
   "id": "186f5734-101b-4194-97f3-9742ca6bca96",
   "metadata": {},
   "outputs": [
    {
     "data": {
      "text/plain": [
       "[[-1, -1, 2], [-1, 0, 1]]"
      ]
     },
     "execution_count": 45,
     "metadata": {},
     "output_type": "execute_result"
    }
   ],
   "source": [
    "find_sum(lst)"
   ]
  },
  {
   "cell_type": "code",
   "execution_count": 2,
   "id": "3844bea8-673d-47a7-a616-f09f080f7f06",
   "metadata": {},
   "outputs": [],
   "source": [
    "llst=[-2,-1,-4,0,1,3,1,2]"
   ]
  },
  {
   "cell_type": "code",
   "execution_count": 3,
   "id": "dbce848d-f0f8-46d5-aa36-b0e29cd9ec4b",
   "metadata": {},
   "outputs": [
    {
     "data": {
      "text/plain": [
       "[-4, -2, -1, 0, 1, 1, 2, 3]"
      ]
     },
     "execution_count": 3,
     "metadata": {},
     "output_type": "execute_result"
    }
   ],
   "source": [
    "llst=sorted(llst)\n",
    "llst"
   ]
  },
  {
   "cell_type": "code",
   "execution_count": 6,
   "id": "d2047e28-64ee-4bc4-973f-b797fae9376b",
   "metadata": {},
   "outputs": [],
   "source": [
    "res=[]\n",
    "\n",
    "for i in range(len(llst)-1):\n",
    "    if i>0 and llst[i]==llst[i+1]:\n",
    "        continue\n",
    "    l=i+1\n",
    "    r=len(llst)-1\n",
    "    while l<r:\n",
    "        total=llst[i]+llst[l]+llst[r]\n",
    "        if total<0:\n",
    "            l+=1\n",
    "        elif total>0:\n",
    "            r-=1\n",
    "        else:\n",
    "            res.append([llst[i],llst[l],llst[r]])\n",
    "            while l<r and llst[l]==llst[l+1]:\n",
    "                l+=1\n",
    "            while l<r and llst[r]==llst[r-1]:\n",
    "                r-=1\n",
    "            l+=1\n",
    "            r-=1"
   ]
  },
  {
   "cell_type": "code",
   "execution_count": 7,
   "id": "8e2e8d6c-9750-47ce-919c-77a39234b1eb",
   "metadata": {},
   "outputs": [
    {
     "data": {
      "text/plain": [
       "[[-4, 1, 3], [-2, -1, 3], [-2, 0, 2], [-2, 1, 1], [-1, 0, 1]]"
      ]
     },
     "execution_count": 7,
     "metadata": {},
     "output_type": "execute_result"
    }
   ],
   "source": [
    "res"
   ]
  },
  {
   "cell_type": "code",
   "execution_count": null,
   "id": "1382055b-0f2e-4fe1-8db5-1061209c65da",
   "metadata": {},
   "outputs": [],
   "source": [
    "res1=[]\n",
    "\n",
    "for i in range(len(llst)-1):\n",
    "    if i>0 and llst[i]==llst[i+1]:\n",
    "        continue\n",
    "    l=i\n",
    "    r=len(llst)-1\n",
    "    while l<r:\n",
    "        total=llst[i]+llst[l]+llst[r]\n",
    "        if total<0:\n",
    "            l+=1\n",
    "        elif total>0:\n",
    "            r-=1\n",
    "        else:\n",
    "            res.append([llst[i],llst[l],llst[r]])\n",
    "            while l<r and llst[l]==llst[l+1]:\n",
    "                l+=1\n",
    "            while l<r and llst[r]==llst[r-1]:\n",
    "                r-=1\n",
    "            l+=1\n",
    "            r-=1"
   ]
  }
 ],
 "metadata": {
  "kernelspec": {
   "display_name": "Python 3",
   "language": "python",
   "name": "python3"
  },
  "language_info": {
   "codemirror_mode": {
    "name": "ipython",
    "version": 3
   },
   "file_extension": ".py",
   "mimetype": "text/x-python",
   "name": "python",
   "nbconvert_exporter": "python",
   "pygments_lexer": "ipython3",
   "version": "3.9.1"
  }
 },
 "nbformat": 4,
 "nbformat_minor": 5
}
