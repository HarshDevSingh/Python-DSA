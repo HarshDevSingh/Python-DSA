{
 "cells": [
  {
   "cell_type": "code",
   "execution_count": 64,
   "id": "91c9b373-3f62-4f4d-b080-bb2d9f8e9aa9",
   "metadata": {},
   "outputs": [],
   "source": [
    "strng=\"Harsh\"\n",
    "strng2=\"singh\""
   ]
  },
  {
   "cell_type": "code",
   "execution_count": 86,
   "id": "cf38e2fc-fc7d-43aa-a213-99c9243236c0",
   "metadata": {},
   "outputs": [],
   "source": [
    "def string_checker(s):\n",
    "    s=s.replace(\" \", \"\").lower()\n",
    "    if len(set(s))!=len(s):\n",
    "        return False\n",
    "    count={}\n",
    "    unique_chars=[]\n",
    "    for i in s:\n",
    "        if i not in count:\n",
    "            count[i]=1\n",
    "        else:\n",
    "            count[i]+=1\n",
    "    if max(count.values())!=1:\n",
    "        return False\n",
    "    else:\n",
    "        return True"
   ]
  },
  {
   "cell_type": "code",
   "execution_count": 88,
   "id": "d3f7fce1-90e5-49af-abd2-97d0d72c1aba",
   "metadata": {},
   "outputs": [
    {
     "data": {
      "text/plain": [
       "True"
      ]
     },
     "execution_count": 88,
     "metadata": {},
     "output_type": "execute_result"
    }
   ],
   "source": [
    "string_checker(strng2)"
   ]
  },
  {
   "cell_type": "code",
   "execution_count": 71,
   "id": "6ea99a0c-9981-45e1-b18c-b18de743a284",
   "metadata": {},
   "outputs": [],
   "source": [
    "def repeat_st(s):\n",
    "    s=s.replace(\" \", \"\").lower()\n",
    "    char_count={}\n",
    "    non_repeat_chars=[]\n",
    "    for i in s:\n",
    "        if i not in char_count:\n",
    "            char_count[i]=1\n",
    "        else:\n",
    "            char_count[i]+=1\n",
    "    for k in char_count.keys():\n",
    "        if char_count[k]>1:\n",
    "            non_repeat_chars.append(k)\n",
    "    return \",\".join(non_repeat_chars)"
   ]
  },
  {
   "cell_type": "code",
   "execution_count": 72,
   "id": "90d5b253-3817-4bc6-a2bb-5170d66a7ea5",
   "metadata": {},
   "outputs": [
    {
     "data": {
      "text/plain": [
       "'h'"
      ]
     },
     "execution_count": 72,
     "metadata": {},
     "output_type": "execute_result"
    }
   ],
   "source": [
    "repeat_st(strng)"
   ]
  },
  {
   "cell_type": "code",
   "execution_count": 73,
   "id": "b42a2854-f198-458b-b04b-3dda74732ff9",
   "metadata": {},
   "outputs": [],
   "source": [
    "def repeat_st2(s):\n",
    "    s=s.replace(\" \", \"\").lower()\n",
    "    s_set=set()\n",
    "    non_repeat_chars=[]\n",
    "    for i in s:\n",
    "        if i not in s_set:\n",
    "            s_set.add(i)\n",
    "        else:\n",
    "            non_repeat_chars.append(i)\n",
    "    non_repeat_chars=set(non_repeat_chars)\n",
    "    return \",\".join(list(non_repeat_chars))"
   ]
  },
  {
   "cell_type": "code",
   "execution_count": 74,
   "id": "95e110d0-a9be-4d6f-a133-505e4af1b973",
   "metadata": {},
   "outputs": [
    {
     "data": {
      "text/plain": [
       "'h'"
      ]
     },
     "execution_count": 74,
     "metadata": {},
     "output_type": "execute_result"
    }
   ],
   "source": [
    "repeat_st2(strng)"
   ]
  },
  {
   "cell_type": "code",
   "execution_count": 106,
   "id": "db0f1815-a7b6-48d7-bf9f-42716f031f83",
   "metadata": {},
   "outputs": [],
   "source": [
    "def non_rep_string_checker(s):\n",
    "    s=s.replace(\" \", \"\").lower()\n",
    "    count={}\n",
    "    unique_chars=[]\n",
    "    for i in s:\n",
    "        if i not in count:\n",
    "            count[i]=1\n",
    "        else:\n",
    "            count[i]+=1\n",
    "    for k in count.keys():\n",
    "        if count[k] > 1:\n",
    "            continue\n",
    "        else:\n",
    "            unique_chars.append(k)    \n",
    "    return \",\".join(unique_chars)"
   ]
  },
  {
   "cell_type": "code",
   "execution_count": 107,
   "id": "e2cd800e-4c6e-4cd4-928c-424e6ef2a4b0",
   "metadata": {},
   "outputs": [
    {
     "data": {
      "text/plain": [
       "'t,r,n,g'"
      ]
     },
     "execution_count": 107,
     "metadata": {},
     "output_type": "execute_result"
    }
   ],
   "source": [
    "non_rep_string_checker(\"strngs\")"
   ]
  }
 ],
 "metadata": {
  "kernelspec": {
   "display_name": "Python 3",
   "language": "python",
   "name": "python3"
  },
  "language_info": {
   "codemirror_mode": {
    "name": "ipython",
    "version": 3
   },
   "file_extension": ".py",
   "mimetype": "text/x-python",
   "name": "python",
   "nbconvert_exporter": "python",
   "pygments_lexer": "ipython3",
   "version": "3.9.1"
  }
 },
 "nbformat": 4,
 "nbformat_minor": 5
}
