{
 "cells": [
  {
   "cell_type": "code",
   "execution_count": 32,
   "id": "ee776973-dbdd-4357-8913-af56dfdcf726",
   "metadata": {},
   "outputs": [],
   "source": [
    "arr=[4,3,2,2,3,1,5]"
   ]
  },
  {
   "cell_type": "code",
   "execution_count": 153,
   "id": "d50f188e-959e-4b05-a1e2-5c1e5fd3755a",
   "metadata": {},
   "outputs": [],
   "source": [
    "def arr_pair(arr,k):\n",
    "    if len(arr)<2:\n",
    "        return arr\n",
    "    seen=set()\n",
    "    output=set()\n",
    "    for num in arr:\n",
    "        target=k-num\n",
    "        print(\"target\",target)\n",
    "        if target not in seen:\n",
    "            print(\"seen\",num)\n",
    "            seen.add(num)\n",
    "        else:\n",
    "            print(\"output num\",num)\n",
    "            print(\"output target\",target)\n",
    "            output.add(((min(num,target)),max(num,target)))\n",
    "    return output"
   ]
  },
  {
   "cell_type": "code",
   "execution_count": 154,
   "id": "e43047a3-ef3b-4528-84bc-39752c48c005",
   "metadata": {},
   "outputs": [
    {
     "name": "stdout",
     "output_type": "stream",
     "text": [
      "target 2\n",
      "seen 4\n",
      "target 3\n",
      "seen 3\n",
      "target 4\n",
      "output num 2\n",
      "output target 4\n",
      "target 4\n",
      "output num 2\n",
      "output target 4\n",
      "target 3\n",
      "output num 3\n",
      "output target 3\n",
      "target 5\n",
      "seen 1\n",
      "target 1\n",
      "output num 5\n",
      "output target 1\n"
     ]
    },
    {
     "data": {
      "text/plain": [
       "{(1, 5), (2, 4), (3, 3)}"
      ]
     },
     "execution_count": 154,
     "metadata": {},
     "output_type": "execute_result"
    }
   ],
   "source": [
    "arr_pair(arr,6)"
   ]
  },
  {
   "cell_type": "code",
   "execution_count": 1,
   "id": "0c3e17a2-cdf1-4170-83e6-3ababefc6e3d",
   "metadata": {},
   "outputs": [],
   "source": [
    "arr1=[1,2,3,4,5,6]\n",
    "arr2=[1,2,3,6,5,4,8]"
   ]
  },
  {
   "cell_type": "code",
   "execution_count": 2,
   "id": "7d3daf09-bdac-4281-8511-42d701e3e604",
   "metadata": {},
   "outputs": [],
   "source": [
    "def finder(arr1,arr2):\n",
    "    arr1=sorted(arr1)\n",
    "    arr2=sorted(arr2)\n",
    "    msg_ele=[]\n",
    "    for num1,num2 in zip(arr1,arr2):\n",
    "        if num1 != num2:\n",
    "            return num1\n",
    "    return arr1"
   ]
  },
  {
   "cell_type": "code",
   "execution_count": 3,
   "id": "dc40248a-3ca4-4c7c-a12d-251748c0b13c",
   "metadata": {},
   "outputs": [
    {
     "data": {
      "text/plain": [
       "[1, 2, 3, 4, 5, 6]"
      ]
     },
     "execution_count": 3,
     "metadata": {},
     "output_type": "execute_result"
    }
   ],
   "source": [
    "finder(arr1,arr2)"
   ]
  },
  {
   "cell_type": "code",
   "execution_count": 4,
   "id": "18268046-d287-421b-b904-aa6f5fc6f3e3",
   "metadata": {},
   "outputs": [],
   "source": [
    "def finder2(arr1,arr2):\n",
    "    arr1=sorted(arr1)\n",
    "    arr2=sorted(arr2)\n",
    "    count={}\n",
    "    for num in arr1:\n",
    "        if num in count.keys():\n",
    "            count[num] +=1\n",
    "        else:\n",
    "            count[num]=1\n",
    "    \n",
    "    for num in arr2:\n",
    "        if num in count.keys():\n",
    "            count[num] -=1\n",
    "        else:\n",
    "            count[num]=1\n",
    "    for k in count.keys():\n",
    "        if count[k] >0:\n",
    "            return k\n",
    "    return k\n",
    "            "
   ]
  },
  {
   "cell_type": "code",
   "execution_count": 5,
   "id": "68850545-8c6c-48e6-87b9-fbb7268971e2",
   "metadata": {},
   "outputs": [
    {
     "data": {
      "text/plain": [
       "8"
      ]
     },
     "execution_count": 5,
     "metadata": {},
     "output_type": "execute_result"
    }
   ],
   "source": [
    "finder2(arr1,arr2)"
   ]
  },
  {
   "cell_type": "code",
   "execution_count": 6,
   "id": "442d5f7d-50a6-4104-9731-94cdaeb9f18f",
   "metadata": {},
   "outputs": [],
   "source": [
    "arr=[1,2,-1,3,4,10,10,-10,-1]"
   ]
  },
  {
   "cell_type": "code",
   "execution_count": 161,
   "id": "5c1d7d20-2e1c-4f8d-ba83-3c186ca77ba9",
   "metadata": {},
   "outputs": [
    {
     "name": "stdout",
     "output_type": "stream",
     "text": [
      "27\n"
     ]
    }
   ],
   "source": [
    "sums=0\n",
    "sums_list=[]\n",
    "for num in arr:\n",
    "    if num < 0:\n",
    "        sums_list.append(sums)\n",
    "        sums=0\n",
    "    else:\n",
    "        sums +=num\n",
    "print(max(sums_list))"
   ]
  },
  {
   "cell_type": "code",
   "execution_count": 175,
   "id": "14530734-1d1c-4512-b8f5-b9153f56891e",
   "metadata": {},
   "outputs": [],
   "source": [
    "def rev_st(st):\n",
    "    st_lst=list(s1.split())\n",
    "    rev_st_list=s1_lst[::-1]\n",
    "    rev_st=\" \".join(rev_list)\n",
    "    return rev_st\n",
    "    "
   ]
  },
  {
   "cell_type": "code",
   "execution_count": 176,
   "id": "849677ef-8533-41fe-9bd7-d8338564d77e",
   "metadata": {},
   "outputs": [
    {
     "data": {
      "text/plain": [
       "'best is this'"
      ]
     },
     "execution_count": 176,
     "metadata": {},
     "output_type": "execute_result"
    }
   ],
   "source": [
    "rev_st(\"   this is best   \")"
   ]
  },
  {
   "cell_type": "code",
   "execution_count": 217,
   "id": "d9bd4a72-206c-4f87-b22f-d8a70d4c7881",
   "metadata": {},
   "outputs": [],
   "source": [
    "def rev_st2(s):\n",
    "    words=[]\n",
    "    ln=len(s)\n",
    "    spaces=[' ']\n",
    "    \n",
    "    i=0\n",
    "    while i < ln:\n",
    "        if s[i] not in spaces:\n",
    "            word_starts = i\n",
    "            print(\"word_starts\",word_starts)\n",
    "            print(\"word_starts i\",i)\n",
    "            while i < ln and s[i] not in spaces:\n",
    "                print(\"i in\",i)\n",
    "                i+=1\n",
    "            words.append(s[word_starts:i])\n",
    "        print(\"i out\",i)\n",
    "        i+=1\n",
    "    return \" \".join(reversed(words))"
   ]
  },
  {
   "cell_type": "code",
   "execution_count": 218,
   "id": "09127910-d2e5-4c00-b7a3-d2ccf584a5bf",
   "metadata": {},
   "outputs": [
    {
     "name": "stdout",
     "output_type": "stream",
     "text": [
      "i out 0\n",
      "i out 1\n",
      "i out 2\n",
      "word_starts 3\n",
      "word_starts i 3\n",
      "i in 3\n",
      "i in 4\n",
      "i in 5\n",
      "i in 6\n",
      "i out 7\n",
      "word_starts 8\n",
      "word_starts i 8\n",
      "i in 8\n",
      "i in 9\n",
      "i out 10\n",
      "word_starts 11\n",
      "word_starts i 11\n",
      "i in 11\n",
      "i in 12\n",
      "i in 13\n",
      "i in 14\n",
      "i out 15\n",
      "i out 16\n",
      "i out 17\n"
     ]
    },
    {
     "data": {
      "text/plain": [
       "'best is this'"
      ]
     },
     "execution_count": 218,
     "metadata": {},
     "output_type": "execute_result"
    }
   ],
   "source": [
    "rev_st2(\"   this is best   \")"
   ]
  },
  {
   "cell_type": "code",
   "execution_count": 239,
   "id": "401ee765-e80a-4145-8747-afc69ab4a313",
   "metadata": {},
   "outputs": [],
   "source": [
    "def st_comp(s):\n",
    "    comp={}\n",
    "    for i in s:\n",
    "        if i in comp.keys():\n",
    "            comp[i] +=1\n",
    "        else:\n",
    "            comp[i]=1\n",
    "    st=\"\"\n",
    "    all_unique=True\n",
    "    for key in comp.keys():\n",
    "        if comp[key] > 1:\n",
    "            all_unique=False\n",
    "        st+=key+str(comp[key])\n",
    "    return f\"{st},all unique:{all_unique}\"\n"
   ]
  },
  {
   "cell_type": "code",
   "execution_count": 240,
   "id": "8e85d7cc-786b-46df-8008-ded7ba355f04",
   "metadata": {},
   "outputs": [
    {
     "data": {
      "text/plain": [
       "'A1a1B1c1C1,all unique:True'"
      ]
     },
     "execution_count": 240,
     "metadata": {},
     "output_type": "execute_result"
    }
   ],
   "source": [
    "st_comp(\"AaBcC\")"
   ]
  },
  {
   "cell_type": "code",
   "execution_count": null,
   "id": "a553d4b8-9f36-4d98-a082-8740580234fa",
   "metadata": {},
   "outputs": [],
   "source": []
  }
 ],
 "metadata": {
  "kernelspec": {
   "display_name": "Python 3",
   "language": "python",
   "name": "python3"
  },
  "language_info": {
   "codemirror_mode": {
    "name": "ipython",
    "version": 3
   },
   "file_extension": ".py",
   "mimetype": "text/x-python",
   "name": "python",
   "nbconvert_exporter": "python",
   "pygments_lexer": "ipython3",
   "version": "3.9.1"
  }
 },
 "nbformat": 4,
 "nbformat_minor": 5
}
