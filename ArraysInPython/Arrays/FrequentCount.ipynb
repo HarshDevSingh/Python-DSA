{
 "cells": [
  {
   "cell_type": "code",
   "execution_count": 1,
   "id": "02820cf6-c38a-49ce-a9b6-4df0e41f78b4",
   "metadata": {},
   "outputs": [],
   "source": [
    "lst=[2,1,3,5,2,6,8,9,2,3,4,5,1,3,2]"
   ]
  },
  {
   "cell_type": "code",
   "execution_count": 2,
   "id": "88092467-cd47-4d5b-9309-89a95c37c753",
   "metadata": {},
   "outputs": [],
   "source": [
    "count={}\n",
    "max_count=0\n",
    "max_item=None\n",
    "\n",
    "for i in lst:\n",
    "    if i not in count:\n",
    "        count[i]=1\n",
    "    else:\n",
    "        count[i]+=1\n",
    "    \n",
    "    if count[i] > max_count:\n",
    "        max_count=count[i]\n",
    "        max_item=i        "
   ]
  },
  {
   "cell_type": "code",
   "execution_count": 4,
   "id": "cfaa0d29-55de-41c1-a023-b24ce59f9e96",
   "metadata": {},
   "outputs": [
    {
     "data": {
      "text/plain": [
       "(2, 4)"
      ]
     },
     "execution_count": 4,
     "metadata": {},
     "output_type": "execute_result"
    }
   ],
   "source": [
    "max_item,max_count"
   ]
  },
  {
   "cell_type": "code",
   "execution_count": 6,
   "id": "f19cb52f-1a62-4355-8ca8-4f14d159fedd",
   "metadata": {},
   "outputs": [
    {
     "data": {
      "text/plain": [
       "(6, 1)"
      ]
     },
     "execution_count": 6,
     "metadata": {},
     "output_type": "execute_result"
    }
   ],
   "source": [
    "#least count\n",
    "v=list(count.values())\n",
    "k=list(count.keys())\n",
    "k[v.index(min(v))],min(v)"
   ]
  },
  {
   "cell_type": "code",
   "execution_count": null,
   "id": "267bbffa-3e9b-4084-be04-d8f2470e090c",
   "metadata": {},
   "outputs": [],
   "source": []
  }
 ],
 "metadata": {
  "kernelspec": {
   "display_name": "Python 3",
   "language": "python",
   "name": "python3"
  },
  "language_info": {
   "codemirror_mode": {
    "name": "ipython",
    "version": 3
   },
   "file_extension": ".py",
   "mimetype": "text/x-python",
   "name": "python",
   "nbconvert_exporter": "python",
   "pygments_lexer": "ipython3",
   "version": "3.9.1"
  }
 },
 "nbformat": 4,
 "nbformat_minor": 5
}
