{
 "cells": [
  {
   "cell_type": "code",
   "execution_count": 1,
   "id": "92798f5d-a5f5-4c2f-aa20-49ba41613516",
   "metadata": {},
   "outputs": [],
   "source": [
    "lst=[2,3,4,7,9,1]\n",
    "lst2=[5,4,3,6,9,8]"
   ]
  },
  {
   "cell_type": "code",
   "execution_count": 4,
   "id": "efab3a13-d28d-4f2d-a2d6-91c9baa97a86",
   "metadata": {},
   "outputs": [],
   "source": [
    "res=[]\n",
    "for num in lst:\n",
    "    for num2 in lst2:\n",
    "        if num==num2:\n",
    "            res.append(num)\n",
    "        continue"
   ]
  },
  {
   "cell_type": "code",
   "execution_count": 5,
   "id": "b958792f-b42c-465c-8cf4-a00103e999d1",
   "metadata": {},
   "outputs": [
    {
     "data": {
      "text/plain": [
       "[3, 4, 9]"
      ]
     },
     "execution_count": 5,
     "metadata": {},
     "output_type": "execute_result"
    }
   ],
   "source": [
    "res"
   ]
  },
  {
   "cell_type": "code",
   "execution_count": null,
   "id": "24b2a849-3c8c-4c4e-9dc4-00a0b7535880",
   "metadata": {},
   "outputs": [],
   "source": [
    " "
   ]
  }
 ],
 "metadata": {
  "kernelspec": {
   "display_name": "Python 3",
   "language": "python",
   "name": "python3"
  },
  "language_info": {
   "codemirror_mode": {
    "name": "ipython",
    "version": 3
   },
   "file_extension": ".py",
   "mimetype": "text/x-python",
   "name": "python",
   "nbconvert_exporter": "python",
   "pygments_lexer": "ipython3",
   "version": "3.9.1"
  }
 },
 "nbformat": 4,
 "nbformat_minor": 5
}
