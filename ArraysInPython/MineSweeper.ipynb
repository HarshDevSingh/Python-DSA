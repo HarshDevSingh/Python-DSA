{
 "cells": [
  {
   "cell_type": "code",
   "execution_count": 4,
   "id": "b30d286b-aefe-4339-9204-21b290d798f5",
   "metadata": {},
   "outputs": [],
   "source": [
    "num_rows=3\n",
    "num_cols=4\n",
    "bombs=[[0,0],[1,2]]"
   ]
  },
  {
   "cell_type": "code",
   "execution_count": 5,
   "id": "48965524-d2da-4cc5-853e-aad256b1c703",
   "metadata": {},
   "outputs": [
    {
     "data": {
      "text/plain": [
       "[[0, 0, 0, 0], [0, 0, 0, 0], [0, 0, 0, 0]]"
      ]
     },
     "execution_count": 5,
     "metadata": {},
     "output_type": "execute_result"
    }
   ],
   "source": [
    "field=[[0 for i in range(num_cols)] for j in range(num_rows)]\n",
    "field"
   ]
  },
  {
   "cell_type": "code",
   "execution_count": 8,
   "id": "0e26328f-7379-4124-b33e-6bf6159fb847",
   "metadata": {},
   "outputs": [],
   "source": [
    "for bomb_location in bombs:\n",
    "    (bomb_row,bomb_coloumn)=bomb_location\n",
    "    field[bomb_row][bomb_coloumn]=-1"
   ]
  },
  {
   "cell_type": "code",
   "execution_count": 9,
   "id": "33054809-d54f-4504-babe-1cab2f10b159",
   "metadata": {},
   "outputs": [
    {
     "data": {
      "text/plain": [
       "[[-1, 0, 0, 0], [0, 0, -1, 0], [0, 0, 0, 0]]"
      ]
     },
     "execution_count": 9,
     "metadata": {},
     "output_type": "execute_result"
    }
   ],
   "source": [
    "field"
   ]
  },
  {
   "cell_type": "code",
   "execution_count": null,
   "id": "eb222ad9-cdd4-47b2-a7dc-6630cff4ac6e",
   "metadata": {},
   "outputs": [],
   "source": []
  }
 ],
 "metadata": {
  "kernelspec": {
   "display_name": "Python 3",
   "language": "python",
   "name": "python3"
  },
  "language_info": {
   "codemirror_mode": {
    "name": "ipython",
    "version": 3
   },
   "file_extension": ".py",
   "mimetype": "text/x-python",
   "name": "python",
   "nbconvert_exporter": "python",
   "pygments_lexer": "ipython3",
   "version": "3.9.1"
  }
 },
 "nbformat": 4,
 "nbformat_minor": 5
}
