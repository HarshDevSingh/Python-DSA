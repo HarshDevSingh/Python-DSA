{
 "cells": [
  {
   "cell_type": "code",
   "execution_count": 10,
   "id": "bb125811-0255-4c4d-937f-8d8e26da9cc9",
   "metadata": {},
   "outputs": [],
   "source": [
    "class Node:\n",
    "    \n",
    "    def __init__(self,data=None,next=None):\n",
    "        self.data=data\n",
    "        self.next=next"
   ]
  },
  {
   "cell_type": "code",
   "execution_count": 48,
   "id": "2c8e49ea-027e-4876-90f4-027b7914c125",
   "metadata": {},
   "outputs": [],
   "source": [
    "class LinkedList:\n",
    "    def __init__(self):\n",
    "        self.head=None\n",
    "    \n",
    "    def insert_at_begining(self, data):\n",
    "        node = Node(data, self.head)\n",
    "        self.head = node\n",
    "    \n",
    "    def printLL(self):\n",
    "        \n",
    "        if self.head is None:\n",
    "            print(\"Linked list is empty\")\n",
    "            return\n",
    "        itr = self.head\n",
    "        llstr = ''\n",
    "        while itr:\n",
    "            llstr += str(itr.data)+' --> ' if itr.next else str(itr.data)\n",
    "            itr = itr.next\n",
    "        print(llstr)\n",
    "    \n",
    "    def get_length(self):\n",
    "        count=0\n",
    "        itr=self.head\n",
    "        while itr:\n",
    "            count+=1\n",
    "            itr=itr.next\n",
    "        return count\n",
    "    \n",
    "    def insert_at_end(self,data):\n",
    "        if self.head is None:\n",
    "            node = Node(data, self.head)\n",
    "            self.head = node\n",
    "            return\n",
    "        itr=self.head\n",
    "        while itr.next:\n",
    "            itr=itr.next\n",
    "        itr.next=Node(data)\n",
    "        \n",
    "    def insert_at_index(self,index,data):\n",
    "        if index < 0 or index > self.get_length():\n",
    "            raise Exception(\"invalid index\")\n",
    "        if index==0:\n",
    "            self.insert_at_begining(data)\n",
    "            return\n",
    "        itr=self.head\n",
    "        count=0\n",
    "        while itr.next:\n",
    "            if count == index-1:\n",
    "                node=Node(data,itr.next)\n",
    "                itr.next=node\n",
    "                break\n",
    "            itr=itr.next\n",
    "            count+=1"
   ]
  },
  {
   "cell_type": "code",
   "execution_count": 57,
   "id": "1382f148-05e9-462b-834d-5580e21b7663",
   "metadata": {},
   "outputs": [
    {
     "name": "stdout",
     "output_type": "stream",
     "text": [
      "17 --> 13 --> 123 --> 22\n",
      "4\n"
     ]
    }
   ],
   "source": [
    "root=LinkedList()\n",
    "root.insert_at_index(0,123)\n",
    "root.insert_at_end(22)\n",
    "root.insert_at_begining(17)\n",
    "root.insert_at_index(1,13)\n",
    "root.printLL()\n",
    "print(root.get_length())"
   ]
  },
  {
   "cell_type": "code",
   "execution_count": null,
   "id": "78e52d40-7fd7-47b7-917e-80ae982bdaaa",
   "metadata": {},
   "outputs": [],
   "source": []
  },
  {
   "cell_type": "code",
   "execution_count": null,
   "id": "e03a3c1d-216a-4411-96d3-f27731a8ec40",
   "metadata": {},
   "outputs": [],
   "source": []
  }
 ],
 "metadata": {
  "kernelspec": {
   "display_name": "Python 3",
   "language": "python",
   "name": "python3"
  },
  "language_info": {
   "codemirror_mode": {
    "name": "ipython",
    "version": 3
   },
   "file_extension": ".py",
   "mimetype": "text/x-python",
   "name": "python",
   "nbconvert_exporter": "python",
   "pygments_lexer": "ipython3",
   "version": "3.9.1"
  }
 },
 "nbformat": 4,
 "nbformat_minor": 5
}
