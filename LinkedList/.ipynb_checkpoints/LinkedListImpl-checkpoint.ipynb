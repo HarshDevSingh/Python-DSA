{
 "cells": [
  {
   "cell_type": "code",
   "execution_count": 1,
   "id": "bb125811-0255-4c4d-937f-8d8e26da9cc9",
   "metadata": {},
   "outputs": [],
   "source": [
    "class Node:\n",
    "    def __init__(self,data=None,next=None):\n",
    "        self.data=data\n",
    "        self.next=next"
   ]
  },
  {
   "cell_type": "code",
   "execution_count": 463,
   "id": "2c8e49ea-027e-4876-90f4-027b7914c125",
   "metadata": {},
   "outputs": [],
   "source": [
    "class LinkedList:\n",
    "    def __init__(self):\n",
    "        self.head=None\n",
    "        \n",
    "    def get_length(self):\n",
    "        length=0\n",
    "        if self.head is None:\n",
    "            return length\n",
    "        itr=self.head\n",
    "        while itr:\n",
    "            length+=1\n",
    "            itr=itr.next\n",
    "        return length\n",
    "        \n",
    "    def print_ll(self):\n",
    "        if self.get_length()<1:\n",
    "            return \"Linked list is empty\"\n",
    "        itr=self.head\n",
    "        ll=\"\"\n",
    "        while itr:\n",
    "            suffix=\"-->\" if itr.next else \"\"\n",
    "            ll+=str(itr.data)+suffix\n",
    "            itr=itr.next\n",
    "        return ll\n",
    "            \n",
    "    def insert_at_begining(self,data):\n",
    "        node=Node(data,self.head)\n",
    "        self.head=node\n",
    "        return \"success\"\n",
    "    \n",
    "    def insert_at_end(self,data):\n",
    "        itr=self.head\n",
    "        while itr.next:\n",
    "            itr=itr.next\n",
    "        node=Node(data,itr.next)\n",
    "        itr.next=node\n",
    "        return \"success\"\n",
    "    \n",
    "    def insert_at_index(self,index,data):\n",
    "        if index < 0 or index not in range(self.get_length()):\n",
    "            return \"out of range index was provided\"\n",
    "        if index ==0:\n",
    "            self.insert_at_begining(data)\n",
    "        if index == self.get_length()-1:\n",
    "            self.insert_at_end(data)\n",
    "        itr=self.head\n",
    "        count=0\n",
    "        while itr:\n",
    "            if count==index-1:\n",
    "                node=Node(data,itr.next)\n",
    "                itr.next=node\n",
    "                break\n",
    "            count+=1\n",
    "            itr=itr.next\n",
    "        return \"success\"\n",
    "    \n",
    "    def remove_at_index(self,index):\n",
    "        if index < 0 or index not in range(self.get_length()):\n",
    "            return \"out of range index was provided\"\n",
    "        \n",
    "        if index==0:\n",
    "            self.head=self.head.next\n",
    "            return \"Node deleted, successfully!\"\n",
    "        itr =self.head\n",
    "        count=0\n",
    "        while itr:\n",
    "            if count == index-1:\n",
    "                itr.next=itr.next.next\n",
    "                break\n",
    "            count +=1\n",
    "            itr=itr.next\n",
    "        return \"Node deleted, successfully!\"\n",
    "    \n",
    "    def bulk_insert(self, data_list=[], at_end=True):\n",
    "        for data in data_list:\n",
    "            if at_end:\n",
    "                self.insert_at_end(data)\n",
    "            else:\n",
    "                self.insert_at_begining(data)\n",
    "        return \"data inserted, successfully!\""
   ]
  },
  {
   "cell_type": "code",
   "execution_count": 464,
   "id": "1382f148-05e9-462b-834d-5580e21b7663",
   "metadata": {},
   "outputs": [],
   "source": [
    "ll=LinkedList()"
   ]
  },
  {
   "cell_type": "code",
   "execution_count": 465,
   "id": "78e52d40-7fd7-47b7-917e-80ae982bdaaa",
   "metadata": {},
   "outputs": [
    {
     "data": {
      "text/plain": [
       "0"
      ]
     },
     "execution_count": 465,
     "metadata": {},
     "output_type": "execute_result"
    }
   ],
   "source": [
    "ll.get_length()"
   ]
  },
  {
   "cell_type": "code",
   "execution_count": 466,
   "id": "e03a3c1d-216a-4411-96d3-f27731a8ec40",
   "metadata": {},
   "outputs": [
    {
     "data": {
      "text/plain": [
       "'Linked list is empty'"
      ]
     },
     "execution_count": 466,
     "metadata": {},
     "output_type": "execute_result"
    }
   ],
   "source": [
    "ll.print_ll()"
   ]
  },
  {
   "cell_type": "code",
   "execution_count": 467,
   "id": "99997572-ae62-4ea3-9129-582f61cbad0b",
   "metadata": {},
   "outputs": [
    {
     "data": {
      "text/plain": [
       "'success'"
      ]
     },
     "execution_count": 467,
     "metadata": {},
     "output_type": "execute_result"
    }
   ],
   "source": [
    "ll.insert_at_begining(5)"
   ]
  },
  {
   "cell_type": "code",
   "execution_count": 468,
   "id": "40d52e14-aa5b-4c40-9b79-48e7aadc8088",
   "metadata": {},
   "outputs": [
    {
     "data": {
      "text/plain": [
       "1"
      ]
     },
     "execution_count": 468,
     "metadata": {},
     "output_type": "execute_result"
    }
   ],
   "source": [
    "ll.get_length()"
   ]
  },
  {
   "cell_type": "code",
   "execution_count": 469,
   "id": "41bd0c73-6639-4dca-b71a-a83458ffd393",
   "metadata": {},
   "outputs": [
    {
     "data": {
      "text/plain": [
       "'5'"
      ]
     },
     "execution_count": 469,
     "metadata": {},
     "output_type": "execute_result"
    }
   ],
   "source": [
    "ll.print_ll()"
   ]
  },
  {
   "cell_type": "code",
   "execution_count": 470,
   "id": "a3aef742-47ac-4839-81fc-f14382efe4fe",
   "metadata": {},
   "outputs": [
    {
     "data": {
      "text/plain": [
       "'success'"
      ]
     },
     "execution_count": 470,
     "metadata": {},
     "output_type": "execute_result"
    }
   ],
   "source": [
    "ll.insert_at_begining(6)"
   ]
  },
  {
   "cell_type": "code",
   "execution_count": 471,
   "id": "89077a86-5b64-443a-8ac6-a051beb343ec",
   "metadata": {},
   "outputs": [
    {
     "data": {
      "text/plain": [
       "'6-->5'"
      ]
     },
     "execution_count": 471,
     "metadata": {},
     "output_type": "execute_result"
    }
   ],
   "source": [
    "ll.print_ll()"
   ]
  },
  {
   "cell_type": "code",
   "execution_count": 472,
   "id": "7b76b455-7c32-40e7-ad89-fc44cdba181e",
   "metadata": {},
   "outputs": [
    {
     "data": {
      "text/plain": [
       "'success'"
      ]
     },
     "execution_count": 472,
     "metadata": {},
     "output_type": "execute_result"
    }
   ],
   "source": [
    "ll.insert_at_end(4)"
   ]
  },
  {
   "cell_type": "code",
   "execution_count": 473,
   "id": "2302d636-2cc3-4c1c-a1b4-a2f5971c4d74",
   "metadata": {},
   "outputs": [
    {
     "data": {
      "text/plain": [
       "'6-->5-->4'"
      ]
     },
     "execution_count": 473,
     "metadata": {},
     "output_type": "execute_result"
    }
   ],
   "source": [
    "ll.print_ll()"
   ]
  },
  {
   "cell_type": "code",
   "execution_count": 474,
   "id": "5f34ee6e-f195-45d4-ba3d-22da8accdf51",
   "metadata": {},
   "outputs": [
    {
     "data": {
      "text/plain": [
       "'success'"
      ]
     },
     "execution_count": 474,
     "metadata": {},
     "output_type": "execute_result"
    }
   ],
   "source": [
    "ll.insert_at_index(0,8)"
   ]
  },
  {
   "cell_type": "code",
   "execution_count": 475,
   "id": "95fd390f-5b17-4f4e-9893-f09974ff20a6",
   "metadata": {},
   "outputs": [
    {
     "data": {
      "text/plain": [
       "'8-->6-->5-->4'"
      ]
     },
     "execution_count": 475,
     "metadata": {},
     "output_type": "execute_result"
    }
   ],
   "source": [
    "ll.print_ll()"
   ]
  },
  {
   "cell_type": "code",
   "execution_count": 476,
   "id": "0d391bcf-41ce-4dfc-b410-ed4592e0621d",
   "metadata": {},
   "outputs": [
    {
     "data": {
      "text/plain": [
       "'success'"
      ]
     },
     "execution_count": 476,
     "metadata": {},
     "output_type": "execute_result"
    }
   ],
   "source": [
    "ll.insert_at_index(1,7)"
   ]
  },
  {
   "cell_type": "code",
   "execution_count": 477,
   "id": "204b38ca-2640-4544-a0e8-ee4c95574cc2",
   "metadata": {},
   "outputs": [
    {
     "data": {
      "text/plain": [
       "'8-->7-->6-->5-->4'"
      ]
     },
     "execution_count": 477,
     "metadata": {},
     "output_type": "execute_result"
    }
   ],
   "source": [
    "ll.print_ll()"
   ]
  },
  {
   "cell_type": "code",
   "execution_count": 478,
   "id": "1bf0680c-a465-411c-9eb2-639025e6a43b",
   "metadata": {},
   "outputs": [
    {
     "data": {
      "text/plain": [
       "'Node deleted, successfully!'"
      ]
     },
     "execution_count": 478,
     "metadata": {},
     "output_type": "execute_result"
    }
   ],
   "source": [
    "ll.remove_at_index(0)"
   ]
  },
  {
   "cell_type": "code",
   "execution_count": 479,
   "id": "f5273ba5-bfda-40ee-a262-0c1d95bff60f",
   "metadata": {},
   "outputs": [
    {
     "data": {
      "text/plain": [
       "'7-->6-->5-->4'"
      ]
     },
     "execution_count": 479,
     "metadata": {},
     "output_type": "execute_result"
    }
   ],
   "source": [
    "ll.print_ll()"
   ]
  },
  {
   "cell_type": "code",
   "execution_count": 480,
   "id": "318f2e2c-c9ba-4985-b6be-cff8a94aca67",
   "metadata": {},
   "outputs": [
    {
     "data": {
      "text/plain": [
       "'Node deleted, successfully!'"
      ]
     },
     "execution_count": 480,
     "metadata": {},
     "output_type": "execute_result"
    }
   ],
   "source": [
    "ll.remove_at_index(2)\n",
    "\n",
    "\n"
   ]
  },
  {
   "cell_type": "code",
   "execution_count": 481,
   "id": "0e838323-47ea-48be-80b7-52ceb16108a6",
   "metadata": {},
   "outputs": [
    {
     "data": {
      "text/plain": [
       "'7-->6-->4'"
      ]
     },
     "execution_count": 481,
     "metadata": {},
     "output_type": "execute_result"
    }
   ],
   "source": [
    "ll.print_ll()"
   ]
  },
  {
   "cell_type": "code",
   "execution_count": 482,
   "id": "3f1a9a05-2dbc-41ff-8d89-c52a3a2fea70",
   "metadata": {},
   "outputs": [
    {
     "data": {
      "text/plain": [
       "'data inserted, successfully!'"
      ]
     },
     "execution_count": 482,
     "metadata": {},
     "output_type": "execute_result"
    }
   ],
   "source": [
    "ll.bulk_insert(data_list=[3,2,1])"
   ]
  },
  {
   "cell_type": "code",
   "execution_count": 483,
   "id": "65c2ab2b-34e3-4cfa-83bc-bb22976f84cf",
   "metadata": {},
   "outputs": [
    {
     "data": {
      "text/plain": [
       "'7-->6-->4-->3-->2-->1'"
      ]
     },
     "execution_count": 483,
     "metadata": {},
     "output_type": "execute_result"
    }
   ],
   "source": [
    "ll.print_ll()"
   ]
  },
  {
   "cell_type": "code",
   "execution_count": 484,
   "id": "4e1e198e-827b-46be-adba-deb17cad6a09",
   "metadata": {},
   "outputs": [
    {
     "data": {
      "text/plain": [
       "'data inserted, successfully!'"
      ]
     },
     "execution_count": 484,
     "metadata": {},
     "output_type": "execute_result"
    }
   ],
   "source": [
    "ll.bulk_insert(data_list=[8,9,10],at_end=False)"
   ]
  },
  {
   "cell_type": "code",
   "execution_count": 462,
   "id": "5b696bae-7e47-455f-96fe-515a54d2c629",
   "metadata": {},
   "outputs": [
    {
     "data": {
      "text/plain": [
       "'10-->9-->8-->7-->6-->4-->3-->2-->1'"
      ]
     },
     "execution_count": 462,
     "metadata": {},
     "output_type": "execute_result"
    }
   ],
   "source": [
    "ll.print_ll()"
   ]
  },
  {
   "cell_type": "code",
   "execution_count": null,
   "id": "931be131-35c5-48d9-a58c-8ba0b0ebe29f",
   "metadata": {},
   "outputs": [],
   "source": []
  }
 ],
 "metadata": {
  "kernelspec": {
   "display_name": "Python 3",
   "language": "python",
   "name": "python3"
  },
  "language_info": {
   "codemirror_mode": {
    "name": "ipython",
    "version": 3
   },
   "file_extension": ".py",
   "mimetype": "text/x-python",
   "name": "python",
   "nbconvert_exporter": "python",
   "pygments_lexer": "ipython3",
   "version": "3.9.1"
  }
 },
 "nbformat": 4,
 "nbformat_minor": 5
}
